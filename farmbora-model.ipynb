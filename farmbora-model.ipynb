{
 "cells": [
  {
   "cell_type": "markdown",
   "id": "6721b363-1dfb-4b83-ae31-0dff16c5a449",
   "metadata": {
    "execution": {
     "iopub.execute_input": "2023-09-05T23:58:18.554123Z",
     "iopub.status.busy": "2023-09-05T23:58:18.553813Z",
     "iopub.status.idle": "2023-09-05T23:58:18.558265Z",
     "shell.execute_reply": "2023-09-05T23:58:18.557639Z",
     "shell.execute_reply.started": "2023-09-05T23:58:18.554096Z"
    }
   },
   "source": [
    "# Farm Bora Model Training"
   ]
  },
  {
   "cell_type": "markdown",
   "id": "947e64cd-cf97-4870-9be9-c95544025712",
   "metadata": {},
   "source": [
    "## 0. Configure Environment"
   ]
  },
  {
   "cell_type": "code",
   "execution_count": 1,
   "id": "6f2bf4bc-8fc4-4738-a4ea-cffc0d7c2b23",
   "metadata": {
    "execution": {
     "iopub.execute_input": "2023-09-09T23:27:12.859573Z",
     "iopub.status.busy": "2023-09-09T23:27:12.858814Z",
     "iopub.status.idle": "2023-09-09T23:27:14.049082Z",
     "shell.execute_reply": "2023-09-09T23:27:14.048108Z",
     "shell.execute_reply.started": "2023-09-09T23:27:12.859538Z"
    }
   },
   "outputs": [
    {
     "name": "stdout",
     "output_type": "stream",
     "text": [
      "[INFO] Current PyTorch version: 2.0.1+cu118 (should be 2.x+)\n",
      "[INFO] PyTorch 2.x installed, you'll be able to use the new features.\n"
     ]
    }
   ],
   "source": [
    "import torch\n",
    "\n",
    "# Check PyTorch version\n",
    "pt_version = torch.__version__\n",
    "print(f\"[INFO] Current PyTorch version: {pt_version} (should be 2.x+)\")\n",
    "\n",
    "# Install PyTorch 2.0 if necessary\n",
    "if pt_version.split(\".\")[0] == \"1\": # Check if PyTorch version begins with 1 \n",
    "    !pip3 install -U torch torchvision torchaudio --index-url https://download.pytorch.org/whl/cu118\n",
    "    print(\"[INFO] PyTorch 2.x installed. Restart the kernel to pick the new changes.\")\n",
    "    import torch\n",
    "    pt_version = torch.__version__\n",
    "    print(f\"[INFO] Current PyTorch version: {pt_version} (should be 2.x+)\")\n",
    "else:\n",
    "    print(\"[INFO] PyTorch 2.x installed, you'll be able to use the new features.\")"
   ]
  },
  {
   "cell_type": "code",
   "execution_count": 2,
   "id": "e3a0351f-5954-4747-a2c6-1d5b7695e4a8",
   "metadata": {
    "execution": {
     "iopub.execute_input": "2023-09-09T23:27:19.459172Z",
     "iopub.status.busy": "2023-09-09T23:27:19.458509Z",
     "iopub.status.idle": "2023-09-09T23:27:22.652007Z",
     "shell.execute_reply": "2023-09-09T23:27:22.651208Z",
     "shell.execute_reply.started": "2023-09-09T23:27:19.459147Z"
    }
   },
   "outputs": [
    {
     "name": "stdout",
     "output_type": "stream",
     "text": [
      "[INFO] Couldn't find torchinfo... installing it.\n",
      "\u001b[33mWARNING: Running pip as the 'root' user can result in broken permissions and conflicting behaviour with the system package manager. It is recommended to use a virtual environment instead: https://pip.pypa.io/warnings/venv\u001b[0m\u001b[33m\n",
      "\u001b[0m"
     ]
    }
   ],
   "source": [
    "# Continue with regular imports\n",
    "import matplotlib.pyplot as plt\n",
    "import torch\n",
    "import torchvision\n",
    "\n",
    "from torch import nn\n",
    "from torchvision import transforms\n",
    "\n",
    "# Try to get torchinfo, install it if it doesn't work\n",
    "try:\n",
    "    from torchinfo import summary\n",
    "except:\n",
    "    print(\"[INFO] Couldn't find torchinfo... installing it.\")\n",
    "    !pip install -q torchinfo\n",
    "    from torchinfo import summary\n",
    "\n",
    "\n",
    "# Try to import the going_modular directory, download it from GitHub if it doesn't work\n",
    "try:\n",
    "    from going_modular.going_modular import data_setup, engine\n",
    "    from helper_functions import download_data, set_seeds, plot_loss_curves\n",
    "except:\n",
    "    # Get the going_modular scripts\n",
    "    print(\"[INFO] Couldn't find going_modular or helper_functions scripts... downloading them from GitHub.\")\n",
    "    !git clone https://github.com/mrdbourke/pytorch-deep-learning\n",
    "    !mv pytorch-deep-learning/going_modular .\n",
    "    !mv pytorch-deep-learning/helper_functions.py . # get the helper_functions.py script\n",
    "    !rm -rf pytorch-deep-learning\n",
    "    from going_modular.going_modular import data_setup, engine\n",
    "    from helper_functions import download_data, set_seeds, plot_loss_curves"
   ]
  },
  {
   "cell_type": "code",
   "execution_count": 3,
   "id": "8681962d-1125-4430-af86-bd717fac0793",
   "metadata": {
    "execution": {
     "iopub.execute_input": "2023-09-09T23:27:22.654245Z",
     "iopub.status.busy": "2023-09-09T23:27:22.653405Z",
     "iopub.status.idle": "2023-09-09T23:27:22.659953Z",
     "shell.execute_reply": "2023-09-09T23:27:22.659391Z",
     "shell.execute_reply.started": "2023-09-09T23:27:22.654217Z"
    }
   },
   "outputs": [
    {
     "data": {
      "text/plain": [
       "('2.0.1+cu118', '0.15.2+cu118')"
      ]
     },
     "execution_count": 3,
     "metadata": {},
     "output_type": "execute_result"
    }
   ],
   "source": [
    "torch.__version__, torchvision.__version__"
   ]
  },
  {
   "cell_type": "code",
   "execution_count": 4,
   "id": "bee4431f-080b-4816-bd62-8f3ea78aca8d",
   "metadata": {
    "execution": {
     "iopub.execute_input": "2023-09-09T23:27:27.408677Z",
     "iopub.status.busy": "2023-09-09T23:27:27.408389Z",
     "iopub.status.idle": "2023-09-09T23:27:27.413204Z",
     "shell.execute_reply": "2023-09-09T23:27:27.412581Z",
     "shell.execute_reply.started": "2023-09-09T23:27:27.408656Z"
    }
   },
   "outputs": [
    {
     "data": {
      "text/plain": [
       "'cuda'"
      ]
     },
     "execution_count": 4,
     "metadata": {},
     "output_type": "execute_result"
    }
   ],
   "source": [
    "# Setup device agnostic code\n",
    "device = \"cuda\" if torch.cuda.is_available() else \"cpu\"\n",
    "device"
   ]
  },
  {
   "cell_type": "code",
   "execution_count": 5,
   "id": "f7da7ed0-2ce6-42d3-920f-1fb97d6af8a1",
   "metadata": {
    "execution": {
     "iopub.execute_input": "2023-09-09T23:27:29.309577Z",
     "iopub.status.busy": "2023-09-09T23:27:29.308828Z",
     "iopub.status.idle": "2023-09-09T23:27:29.312533Z",
     "shell.execute_reply": "2023-09-09T23:27:29.312045Z",
     "shell.execute_reply.started": "2023-09-09T23:27:29.309540Z"
    }
   },
   "outputs": [],
   "source": [
    "RANDOM_SEED = 42\n",
    "NUM_EPOCHS = 32"
   ]
  },
  {
   "cell_type": "markdown",
   "id": "25b1c45c-8ae6-4e93-ac74-6830f5e07082",
   "metadata": {},
   "source": [
    "## 1. Get the Data"
   ]
  },
  {
   "cell_type": "markdown",
   "id": "8c30796d-830a-4bee-b286-c2a543517125",
   "metadata": {},
   "source": [
    "### 1.1 Download the dataset"
   ]
  },
  {
   "cell_type": "code",
   "execution_count": 6,
   "id": "5c19f96e-d17b-4b0c-a0d3-6eef7ed3c866",
   "metadata": {
    "execution": {
     "iopub.execute_input": "2023-09-09T23:27:35.348943Z",
     "iopub.status.busy": "2023-09-09T23:27:35.348384Z",
     "iopub.status.idle": "2023-09-09T23:27:35.352907Z",
     "shell.execute_reply": "2023-09-09T23:27:35.352162Z",
     "shell.execute_reply.started": "2023-09-09T23:27:35.348917Z"
    }
   },
   "outputs": [],
   "source": [
    "from pathlib import Path\n",
    "\n",
    "url = \"https://data.mendeley.com/public-files/datasets/tywbtsjrjv/files/b4e3a32f-c0bd-4060-81e9-6144231f2520/file_downloaded\"\n",
    "\n",
    "# To access persistent storage in Paper space\n",
    "root_storage = \"/storage/\"\n",
    "\n",
    "data_path = Path(f\"{root_storage}data/\")\n",
    "destination_path = \"plant_village\"\n",
    "image_path = data_path / destination_path"
   ]
  },
  {
   "cell_type": "code",
   "execution_count": 9,
   "id": "094b479c-1a77-49ca-8311-fcb4d11930c6",
   "metadata": {
    "execution": {
     "iopub.execute_input": "2023-09-09T22:11:15.923268Z",
     "iopub.status.busy": "2023-09-09T22:11:15.922122Z",
     "iopub.status.idle": "2023-09-09T22:23:13.073454Z",
     "shell.execute_reply": "2023-09-09T22:23:13.070498Z",
     "shell.execute_reply.started": "2023-09-09T22:11:15.923224Z"
    }
   },
   "outputs": [
    {
     "name": "stdout",
     "output_type": "stream",
     "text": [
      "[INFO] /storage/data/plant_village not found. Creating...\n",
      "[INFO] Downloading plant_village.zip from https://data.mendeley.com/public-files/datasets/tywbtsjrjv/files/b4e3a32f-c0bd-4060-81e9-6144231f2520/file_downloaded...\n"
     ]
    },
    {
     "data": {
      "application/vnd.jupyter.widget-view+json": {
       "model_id": "8cc39d01a09b427baec0bdf4e4078d0d",
       "version_major": 2,
       "version_minor": 0
      },
      "text/plain": [
       "  0%|          | 0/949267727 [00:00<?, ?it/s]"
      ]
     },
     "metadata": {},
     "output_type": "display_data"
    },
    {
     "name": "stdout",
     "output_type": "stream",
     "text": [
      "[INFO] Unzipping plant_village.zip data...\n"
     ]
    }
   ],
   "source": [
    "from tqdm.auto import tqdm\n",
    "\n",
    "import os\n",
    "import shutil\n",
    "import zipfile\n",
    "import requests\n",
    "\n",
    "if image_path.is_dir():\n",
    "    print(f\"[INFO] {image_path} exists. Skipping...\")\n",
    "else:\n",
    "    print(f\"[INFO] {image_path} not found. Creating...\")\n",
    "    image_path.mkdir(parents=True, exist_ok=True)\n",
    "    \n",
    "    # Download the dataset\n",
    "    target_file = Path(destination_path + \".zip\")\n",
    "\n",
    "    print(f\"[INFO] Downloading {target_file} from {url}...\")\n",
    "\n",
    "    with requests.get(url, stream=True) as r:\n",
    "        # check header to get content length, in bytes\n",
    "        total_length = int(r.headers.get(\"Content-Length\"))\n",
    "\n",
    "        # implement progress bar via tqdm\n",
    "        with tqdm.wrapattr(r.raw, \"read\", total=total_length, desc=\"\") as raw:\n",
    "            with open(data_path / target_file, \"wb\") as f:\n",
    "                shutil.copyfileobj(raw, f)\n",
    "    \n",
    "    # Unzip the dataset\n",
    "    with zipfile.ZipFile(data_path / target_file, \"r\") as zip_ref:\n",
    "        print(f\"[INFO] Unzipping {target_file} data...\")\n",
    "        zip_ref.extractall(image_path)\n",
    "        \n",
    "    os.remove(data_path / target_file)"
   ]
  },
  {
   "cell_type": "code",
   "execution_count": 13,
   "id": "b9f2f432-5d81-4bb1-9bdb-af21a18dc774",
   "metadata": {
    "execution": {
     "iopub.execute_input": "2023-09-09T22:23:45.524694Z",
     "iopub.status.busy": "2023-09-09T22:23:45.524121Z",
     "iopub.status.idle": "2023-09-09T22:23:46.340390Z",
     "shell.execute_reply": "2023-09-09T22:23:46.337928Z",
     "shell.execute_reply.started": "2023-09-09T22:23:45.524615Z"
    }
   },
   "outputs": [
    {
     "name": "stdout",
     "output_type": "stream",
     "text": [
      " Apple___Apple_scab\n",
      " Apple___Black_rot\n",
      " Apple___Cedar_apple_rust\n",
      " Apple___healthy\n",
      " Background_without_leaves\n",
      " Blueberry___healthy\n",
      " Cherry___Powdery_mildew\n",
      " Cherry___healthy\n",
      "'Corn___Cercospora_leaf_spot Gray_leaf_spot'\n",
      " Corn___Common_rust\n",
      " Corn___Northern_Leaf_Blight\n",
      " Corn___healthy\n",
      " Grape___Black_rot\n",
      "'Grape___Esca_(Black_Measles)'\n",
      "'Grape___Leaf_blight_(Isariopsis_Leaf_Spot)'\n",
      " Grape___healthy\n",
      "'Orange___Haunglongbing_(Citrus_greening)'\n",
      " Peach___Bacterial_spot\n",
      " Peach___healthy\n",
      " Pepper,_bell___Bacterial_spot\n",
      " Pepper,_bell___healthy\n",
      " Potato___Early_blight\n",
      " Potato___Late_blight\n",
      " Potato___healthy\n",
      " Raspberry___healthy\n",
      " Soybean___healthy\n",
      " Squash___Powdery_mildew\n",
      " Strawberry___Leaf_scorch\n",
      " Strawberry___healthy\n",
      " Tomato___Bacterial_spot\n",
      " Tomato___Early_blight\n",
      " Tomato___Late_blight\n",
      " Tomato___Leaf_Mold\n",
      " Tomato___Septoria_leaf_spot\n",
      "'Tomato___Spider_mites Two-spotted_spider_mite'\n",
      " Tomato___Target_Spot\n",
      " Tomato___Tomato_Yellow_Leaf_Curl_Virus\n",
      " Tomato___Tomato_mosaic_virus\n",
      " Tomato___healthy\n"
     ]
    }
   ],
   "source": [
    "# !rm -rf /storage/data/plant_village*\n",
    "# !ls /storage/data\n",
    "!ls /storage/data/plant_village/Plant_leave_diseases_dataset_with_augmentation"
   ]
  },
  {
   "cell_type": "markdown",
   "id": "243ffa88-c590-4490-9f18-c4d658eaf519",
   "metadata": {},
   "source": [
    "### 1.2 Organize the data"
   ]
  },
  {
   "cell_type": "code",
   "execution_count": 13,
   "id": "3186ef0c-f147-42f1-8142-76698fbd2341",
   "metadata": {
    "execution": {
     "iopub.execute_input": "2023-09-09T23:29:22.748636Z",
     "iopub.status.busy": "2023-09-09T23:29:22.748349Z",
     "iopub.status.idle": "2023-09-09T23:29:22.753370Z",
     "shell.execute_reply": "2023-09-09T23:29:22.752632Z",
     "shell.execute_reply.started": "2023-09-09T23:29:22.748615Z"
    }
   },
   "outputs": [],
   "source": [
    "dataset_dir = image_path / \"Plant_leave_diseases_dataset_with_augmentation\""
   ]
  },
  {
   "cell_type": "code",
   "execution_count": 14,
   "id": "1417d683-2c50-49bb-ba48-2acb45e01242",
   "metadata": {
    "execution": {
     "iopub.execute_input": "2023-09-09T23:29:23.668615Z",
     "iopub.status.busy": "2023-09-09T23:29:23.668354Z",
     "iopub.status.idle": "2023-09-09T23:29:24.637045Z",
     "shell.execute_reply": "2023-09-09T23:29:24.636325Z",
     "shell.execute_reply.started": "2023-09-09T23:29:23.668594Z"
    }
   },
   "outputs": [
    {
     "data": {
      "text/plain": [
       "(58775,\n",
       " [PosixPath('/storage/data/plant_village/Plant_leave_diseases_dataset_with_augmentation/Corn___Northern_Leaf_Blight/image (340).JPG'),\n",
       "  PosixPath('/storage/data/plant_village/Plant_leave_diseases_dataset_with_augmentation/Corn___Northern_Leaf_Blight/image (208).JPG'),\n",
       "  PosixPath('/storage/data/plant_village/Plant_leave_diseases_dataset_with_augmentation/Corn___Northern_Leaf_Blight/image (754).JPG')])"
      ]
     },
     "execution_count": 14,
     "metadata": {},
     "output_type": "execute_result"
    }
   ],
   "source": [
    "all_image_paths = list(dataset_dir.glob(\"*/*.JPG\"))\n",
    "len(all_image_paths), all_image_paths[:3]"
   ]
  },
  {
   "cell_type": "markdown",
   "id": "74415052-8fd5-46cf-8c8e-de7610f241e2",
   "metadata": {},
   "source": [
    "Obtain the unique class names"
   ]
  },
  {
   "cell_type": "code",
   "execution_count": 15,
   "id": "3d3f1687-74f0-4bb6-8d6b-3f71b6b3962a",
   "metadata": {
    "execution": {
     "iopub.execute_input": "2023-09-09T23:29:28.069043Z",
     "iopub.status.busy": "2023-09-09T23:29:28.068723Z",
     "iopub.status.idle": "2023-09-09T23:29:28.393460Z",
     "shell.execute_reply": "2023-09-09T23:29:28.392910Z",
     "shell.execute_reply.started": "2023-09-09T23:29:28.069019Z"
    }
   },
   "outputs": [
    {
     "data": {
      "application/vnd.jupyter.widget-view+json": {
       "model_id": "798a602fcef741c0879125355223ee4b",
       "version_major": 2,
       "version_minor": 0
      },
      "text/plain": [
       "  0%|          | 0/58775 [00:00<?, ?it/s]"
      ]
     },
     "metadata": {},
     "output_type": "display_data"
    },
    {
     "data": {
      "text/plain": [
       "(38,\n",
       " ['Cherry___healthy', 'Grape___Esca_(Black_Measles)', 'Potato___Early_blight'])"
      ]
     },
     "execution_count": 15,
     "metadata": {},
     "output_type": "execute_result"
    }
   ],
   "source": [
    "from tqdm.auto import tqdm\n",
    "\n",
    "class_names = set()\n",
    "\n",
    "for path in tqdm(all_image_paths):\n",
    "    class_names.add(Path(path).parent.stem)\n",
    "\n",
    "class_names = list(class_names)\n",
    "len(class_names), class_names[:3]"
   ]
  },
  {
   "cell_type": "markdown",
   "id": "7116ac07-554a-4d88-87ea-82688e93a9db",
   "metadata": {},
   "source": [
    "Now let's see how many samples we have per class"
   ]
  },
  {
   "cell_type": "code",
   "execution_count": 17,
   "id": "04188f7c-dabd-4594-92e0-da27ea4da4cc",
   "metadata": {
    "execution": {
     "iopub.execute_input": "2023-09-09T22:24:12.224774Z",
     "iopub.status.busy": "2023-09-09T22:24:12.223327Z",
     "iopub.status.idle": "2023-09-09T22:24:12.698050Z",
     "shell.execute_reply": "2023-09-09T22:24:12.696801Z",
     "shell.execute_reply.started": "2023-09-09T22:24:12.224714Z"
    }
   },
   "outputs": [
    {
     "data": {
      "application/vnd.jupyter.widget-view+json": {
       "model_id": "28e8b35f3bda43e6a4d31614a1aa6239",
       "version_major": 2,
       "version_minor": 0
      },
      "text/plain": [
       "  0%|          | 0/38 [00:00<?, ?it/s]"
      ]
     },
     "metadata": {},
     "output_type": "display_data"
    },
    {
     "name": "stdout",
     "output_type": "stream",
     "text": [
      "Tomato___Tomato_Yellow_Leaf_Curl_Virus: 5357\n",
      "Tomato___Bacterial_spot: 2127\n",
      "Grape___Black_rot: 1180\n",
      "Blueberry___healthy: 1502\n",
      "Pepper,_bell___Bacterial_spot: 1000\n",
      "Tomato___Early_blight: 1000\n",
      "Apple___healthy: 1645\n",
      "Orange___Haunglongbing_(Citrus_greening): 5507\n",
      "Pepper,_bell___healthy: 1476\n",
      "Strawberry___healthy: 1000\n",
      "Tomato___Spider_mites Two-spotted_spider_mite: 1676\n",
      "Potato___healthy: 1000\n",
      "Tomato___Late_blight: 1756\n",
      "Tomato___healthy: 1590\n",
      "Tomato___Target_Spot: 1404\n",
      "Corn___healthy: 21\n",
      "Grape___Leaf_blight_(Isariopsis_Leaf_Spot): 1076\n",
      "Cherry___healthy: 1000\n",
      "Apple___Apple_scab: 1000\n",
      "Cherry___Powdery_mildew: 1052\n",
      "Potato___Late_blight: 1000\n",
      "Grape___healthy: 1000\n",
      "Tomato___Septoria_leaf_spot: 1771\n",
      "Squash___Powdery_mildew: 1813\n",
      "Tomato___Leaf_Mold: 1000\n",
      "Peach___Bacterial_spot: 2297\n",
      "Potato___Early_blight: 1000\n",
      "Raspberry___healthy: 1000\n",
      "Corn___Northern_Leaf_Blight: 882\n",
      "Corn___Common_rust: 1192\n",
      "Strawberry___Leaf_scorch: 1108\n",
      "Apple___Black_rot: 1000\n",
      "Corn___Cercospora_leaf_spot Gray_leaf_spot: 870\n",
      "Apple___Cedar_apple_rust: 1000\n",
      "Tomato___Tomato_mosaic_virus: 1000\n",
      "Soybean___healthy: 5090\n",
      "Grape___Esca_(Black_Measles): 1383\n",
      "Peach___healthy: 1000\n"
     ]
    },
    {
     "data": {
      "text/plain": [
       "({'key': 'Corn___healthy', 'samples': 21},\n",
       " {'key': 'Orange___Haunglongbing_(Citrus_greening)', 'samples': 5507})"
      ]
     },
     "execution_count": 17,
     "metadata": {},
     "output_type": "execute_result"
    }
   ],
   "source": [
    "class_images = {}\n",
    "for class_name in tqdm(class_names):\n",
    "    class_images[class_name] = list(dataset_dir.glob(f\"{class_name}/*.JPG\"))\n",
    "\n",
    "min_class = {\"key\": \"\", \"samples\": \"\" }\n",
    "max_class = {\"key\": \"\", \"samples\": \"\" }\n",
    "for key, samples in class_images.items():\n",
    "    # Initialize the min and max classes\n",
    "    min_class[\"key\"] = key if not min_class[\"key\"] else min_class[\"key\"]\n",
    "    min_class[\"samples\"] = len(samples) if min_class[\"samples\"] == \"\" else min_class[\"samples\"]\n",
    "    \n",
    "    max_class[\"key\"] = key if not max_class[\"key\"] else max_class[\"key\"]\n",
    "    max_class[\"samples\"] = len(samples) if max_class[\"samples\"] == \"\" else max_class[\"samples\"]\n",
    "    \n",
    "    if len(samples) < min_class[\"samples\"]:\n",
    "        min_class[\"key\"]  = key\n",
    "        min_class[\"samples\"] = len(samples)\n",
    "    \n",
    "    if len(samples) > max_class[\"samples\"]:\n",
    "        max_class[\"key\"]  = key\n",
    "        max_class[\"samples\"] = len(samples)\n",
    "    \n",
    "    print(f\"{key}: {len(samples)}\")\n",
    "\n",
    "min_class, max_class"
   ]
  },
  {
   "cell_type": "markdown",
   "id": "7d1d86e5-ca94-4ce2-a956-8bb524c488e8",
   "metadata": {},
   "source": [
    "The dataset is severly imbalanced. That's a future problem though"
   ]
  },
  {
   "cell_type": "code",
   "execution_count": 26,
   "id": "48bf1f7d-8e31-4987-aad8-aba3e8199327",
   "metadata": {
    "execution": {
     "iopub.execute_input": "2023-09-09T22:54:47.053647Z",
     "iopub.status.busy": "2023-09-09T22:54:47.053289Z",
     "iopub.status.idle": "2023-09-09T22:54:47.080992Z",
     "shell.execute_reply": "2023-09-09T22:54:47.079763Z",
     "shell.execute_reply.started": "2023-09-09T22:54:47.053618Z"
    }
   },
   "outputs": [
    {
     "data": {
      "application/vnd.jupyter.widget-view+json": {
       "model_id": "1abe3a1ff38c4933aaf49efd475e58bd",
       "version_major": 2,
       "version_minor": 0
      },
      "text/plain": [
       "  0%|          | 0/38 [00:00<?, ?it/s]"
      ]
     },
     "metadata": {},
     "output_type": "display_data"
    },
    {
     "name": "stdout",
     "output_type": "stream",
     "text": [
      "Splitting Tomato___Tomato_Yellow_Leaf_Curl_Virus to Train (4018), Test (1339)\n",
      "Splitting Tomato___Bacterial_spot to Train (1595), Test (532)\n",
      "Splitting Grape___Black_rot to Train (885), Test (295)\n",
      "Splitting Blueberry___healthy to Train (1126), Test (376)\n",
      "Splitting Pepper,_bell___Bacterial_spot to Train (750), Test (250)\n",
      "Splitting Tomato___Early_blight to Train (750), Test (250)\n",
      "Splitting Apple___healthy to Train (1234), Test (411)\n",
      "Splitting Orange___Haunglongbing_(Citrus_greening) to Train (4130), Test (1377)\n",
      "Splitting Pepper,_bell___healthy to Train (1107), Test (369)\n",
      "Splitting Strawberry___healthy to Train (750), Test (250)\n",
      "Splitting Tomato___Spider_mites Two-spotted_spider_mite to Train (1257), Test (419)\n",
      "Splitting Potato___healthy to Train (750), Test (250)\n",
      "Splitting Tomato___Late_blight to Train (1317), Test (439)\n",
      "Splitting Tomato___healthy to Train (1192), Test (398)\n",
      "Splitting Tomato___Target_Spot to Train (1053), Test (351)\n",
      "Splitting Corn___healthy to Train (16), Test (5)\n",
      "Splitting Grape___Leaf_blight_(Isariopsis_Leaf_Spot) to Train (807), Test (269)\n",
      "Splitting Cherry___healthy to Train (750), Test (250)\n",
      "Splitting Apple___Apple_scab to Train (750), Test (250)\n",
      "Splitting Cherry___Powdery_mildew to Train (789), Test (263)\n",
      "Splitting Potato___Late_blight to Train (750), Test (250)\n",
      "Splitting Grape___healthy to Train (750), Test (250)\n",
      "Splitting Tomato___Septoria_leaf_spot to Train (1328), Test (443)\n",
      "Splitting Squash___Powdery_mildew to Train (1360), Test (453)\n",
      "Splitting Tomato___Leaf_Mold to Train (750), Test (250)\n",
      "Splitting Peach___Bacterial_spot to Train (1723), Test (574)\n",
      "Splitting Potato___Early_blight to Train (750), Test (250)\n",
      "Splitting Raspberry___healthy to Train (750), Test (250)\n",
      "Splitting Corn___Northern_Leaf_Blight to Train (662), Test (220)\n",
      "Splitting Corn___Common_rust to Train (894), Test (298)\n",
      "Splitting Strawberry___Leaf_scorch to Train (831), Test (277)\n",
      "Splitting Apple___Black_rot to Train (750), Test (250)\n",
      "Splitting Corn___Cercospora_leaf_spot Gray_leaf_spot to Train (652), Test (218)\n",
      "Splitting Apple___Cedar_apple_rust to Train (750), Test (250)\n",
      "Splitting Tomato___Tomato_mosaic_virus to Train (750), Test (250)\n",
      "Splitting Soybean___healthy to Train (3818), Test (1272)\n",
      "Splitting Grape___Esca_(Black_Measles) to Train (1037), Test (346)\n",
      "Splitting Peach___healthy to Train (750), Test (250)\n"
     ]
    },
    {
     "data": {
      "text/plain": [
       "(14694, 44081)"
      ]
     },
     "execution_count": 26,
     "metadata": {},
     "output_type": "execute_result"
    }
   ],
   "source": [
    "TEST_PC = 25\n",
    "TRAIN_PC = 75\n",
    "\n",
    "test_paths = []\n",
    "train_paths = []\n",
    "\n",
    "for key, samples in tqdm(class_images.items()):\n",
    "    samples_count = len(samples)\n",
    "    test_count = round(samples_count * TEST_PC / 100)\n",
    "    train_count = round(samples_count * TRAIN_PC / 100)\n",
    "    \n",
    "    print(f\"Splitting {key} to Train ({train_count}), Test ({test_count})\")\n",
    "    test_paths += samples[:test_count]\n",
    "    train_paths += samples[test_count:]\n",
    "\n",
    "len(test_paths), len(train_paths)"
   ]
  },
  {
   "cell_type": "code",
   "execution_count": 7,
   "id": "3479430d-78aa-4fa2-bc74-7ec59e6ff38b",
   "metadata": {
    "execution": {
     "iopub.execute_input": "2023-09-09T23:27:48.887944Z",
     "iopub.status.busy": "2023-09-09T23:27:48.887276Z",
     "iopub.status.idle": "2023-09-09T23:27:48.892964Z",
     "shell.execute_reply": "2023-09-09T23:27:48.891969Z",
     "shell.execute_reply.started": "2023-09-09T23:27:48.887917Z"
    }
   },
   "outputs": [
    {
     "data": {
      "text/plain": [
       "(PosixPath('/storage/data/plant_village/organized/train'),\n",
       " PosixPath('/storage/data/plant_village/organized/test'))"
      ]
     },
     "execution_count": 7,
     "metadata": {},
     "output_type": "execute_result"
    }
   ],
   "source": [
    "organized_dir = image_path / \"organized\"\n",
    "train_dir = organized_dir / \"train\"\n",
    "test_dir = organized_dir / \"test\"\n",
    "train_dir, test_dir"
   ]
  },
  {
   "cell_type": "code",
   "execution_count": 46,
   "id": "770176af-c3b9-4887-9d67-91eaa7e65af4",
   "metadata": {
    "execution": {
     "iopub.execute_input": "2023-09-09T23:08:32.784044Z",
     "iopub.status.busy": "2023-09-09T23:08:32.782907Z",
     "iopub.status.idle": "2023-09-09T23:08:53.327167Z",
     "shell.execute_reply": "2023-09-09T23:08:53.326141Z",
     "shell.execute_reply.started": "2023-09-09T23:08:32.784013Z"
    }
   },
   "outputs": [],
   "source": [
    "# !rm -rf /storage/data/plant_village/Plant_leave_diseases_dataset_with_augmentation/organized"
   ]
  },
  {
   "cell_type": "code",
   "execution_count": 51,
   "id": "4cf87d8a-ec16-469c-81ae-0675c59cac61",
   "metadata": {
    "execution": {
     "iopub.execute_input": "2023-09-09T23:15:25.543727Z",
     "iopub.status.busy": "2023-09-09T23:15:25.543291Z",
     "iopub.status.idle": "2023-09-09T23:15:26.389199Z",
     "shell.execute_reply": "2023-09-09T23:15:26.387216Z",
     "shell.execute_reply.started": "2023-09-09T23:15:25.543694Z"
    }
   },
   "outputs": [
    {
     "name": "stdout",
     "output_type": "stream",
     "text": [
      "train\n"
     ]
    }
   ],
   "source": [
    "import shutil\n",
    "\n",
    "if not train_dir.is_dir():\n",
    "    train_dir.mkdir(parents=True, exist_ok=True)\n",
    "    \n",
    "    print(f\"[INFO] Copying train datasets\")\n",
    "    \n",
    "    for img_path in tqdm(train_paths):\n",
    "        class_name = img_path.parent.stem\n",
    "        class_dir = train_dir / class_name\n",
    "        if not class_dir.is_dir():\n",
    "            class_dir.mkdir(parents=True, exist_ok=True)\n",
    "        \n",
    "        shutil.copyfile(img_path, class_dir / img_path.name)\n",
    "        \n",
    "!ls /storage/data/plant_village/organized"
   ]
  },
  {
   "cell_type": "code",
   "execution_count": 52,
   "id": "d7558a26-aedf-41e1-8b1e-c02c3bcf0738",
   "metadata": {
    "execution": {
     "iopub.execute_input": "2023-09-09T23:15:57.874318Z",
     "iopub.status.busy": "2023-09-09T23:15:57.873821Z",
     "iopub.status.idle": "2023-09-09T23:17:20.604792Z",
     "shell.execute_reply": "2023-09-09T23:17:20.603116Z",
     "shell.execute_reply.started": "2023-09-09T23:15:57.874263Z"
    }
   },
   "outputs": [
    {
     "name": "stdout",
     "output_type": "stream",
     "text": [
      "[INFO] Copying train datasets\n"
     ]
    },
    {
     "data": {
      "application/vnd.jupyter.widget-view+json": {
       "model_id": "e23e3f1acd80418c801808f752981ad3",
       "version_major": 2,
       "version_minor": 0
      },
      "text/plain": [
       "  0%|          | 0/14694 [00:00<?, ?it/s]"
      ]
     },
     "metadata": {},
     "output_type": "display_data"
    },
    {
     "name": "stdout",
     "output_type": "stream",
     "text": [
      "test  train\n"
     ]
    }
   ],
   "source": [
    "import shutil\n",
    "\n",
    "if not test_dir.is_dir():\n",
    "    test_dir.mkdir(parents=True, exist_ok=True)\n",
    "    \n",
    "    print(f\"[INFO] Copying train datasets\")\n",
    "    \n",
    "    for img_path in tqdm(test_paths):\n",
    "        class_name = img_path.parent.stem\n",
    "        class_dir = test_dir / class_name\n",
    "        if not class_dir.is_dir():\n",
    "            class_dir.mkdir(parents=True, exist_ok=True)\n",
    "        \n",
    "        shutil.copyfile(img_path, class_dir / img_path.name)\n",
    "        \n",
    "!ls /storage/data/plant_village/organized"
   ]
  },
  {
   "cell_type": "markdown",
   "id": "81acfd2b-6736-424c-8e36-b691388d1985",
   "metadata": {},
   "source": [
    "So we have train and test images. Nice. Let's see how it looks"
   ]
  },
  {
   "cell_type": "code",
   "execution_count": 42,
   "id": "ab910a78-9442-455b-abaf-f37b210386e8",
   "metadata": {
    "execution": {
     "iopub.execute_input": "2023-09-10T00:05:59.800811Z",
     "iopub.status.busy": "2023-09-10T00:05:59.800127Z",
     "iopub.status.idle": "2023-09-10T00:06:00.484903Z",
     "shell.execute_reply": "2023-09-10T00:06:00.484143Z",
     "shell.execute_reply.started": "2023-09-10T00:05:59.800782Z"
    }
   },
   "outputs": [
    {
     "data": {
      "text/plain": [
       "(44081, 14694)"
      ]
     },
     "execution_count": 42,
     "metadata": {},
     "output_type": "execute_result"
    }
   ],
   "source": [
    "train_image_paths, test_image_paths = list(train_dir.glob(\"*/*.JPG\")), list(test_dir.glob(\"*/*.JPG\"))\n",
    "len(train_image_paths), len(test_image_paths)"
   ]
  },
  {
   "cell_type": "markdown",
   "id": "5b635b31-45ac-4f78-b4c0-db4a9078f247",
   "metadata": {},
   "source": [
    "Good. Now We can train the model"
   ]
  },
  {
   "cell_type": "markdown",
   "id": "a8b8bd91-a244-49f3-b0c2-668c458fc912",
   "metadata": {},
   "source": [
    "## 2. Create and Train EffNetB2"
   ]
  },
  {
   "cell_type": "code",
   "execution_count": 26,
   "id": "09f6c64c-8e55-47a6-bd22-b71903205c38",
   "metadata": {
    "execution": {
     "iopub.execute_input": "2023-09-09T23:35:52.866345Z",
     "iopub.status.busy": "2023-09-09T23:35:52.866034Z",
     "iopub.status.idle": "2023-09-09T23:35:52.871510Z",
     "shell.execute_reply": "2023-09-09T23:35:52.870672Z",
     "shell.execute_reply.started": "2023-09-09T23:35:52.866324Z"
    }
   },
   "outputs": [],
   "source": [
    "def create_effnetb2_model(num_classes:int=38, \n",
    "                          seed:int=42):\n",
    "    \"\"\"Creates an EfficientNetB2 feature extractor model and transforms.\n",
    "\n",
    "    Args:\n",
    "        num_classes (int, optional): number of classes in the classifier head. \n",
    "            Defaults to 3.\n",
    "        seed (int, optional): random seed value. Defaults to 42.\n",
    "\n",
    "    Returns:\n",
    "        model (torch.nn.Module): EffNetB2 feature extractor model. \n",
    "        transforms (torchvision.transforms): EffNetB2 image transforms.\n",
    "    \"\"\"\n",
    "    # 1, 2, 3. Create EffNetB2 pretrained weights, transforms and model\n",
    "    weights = torchvision.models.EfficientNet_B2_Weights.DEFAULT\n",
    "    transforms = weights.transforms()\n",
    "    model = torchvision.models.efficientnet_b2(weights=weights)\n",
    "\n",
    "    # 4. Freeze all layers in base model\n",
    "    for param in model.parameters():\n",
    "        param.requires_grad = False\n",
    "\n",
    "    # 5. Change classifier head with random seed for reproducibility\n",
    "    torch.manual_seed(seed)\n",
    "    model.classifier = nn.Sequential(\n",
    "        nn.Dropout(p=0.3, inplace=True),\n",
    "        nn.Linear(in_features=1408, out_features=num_classes),\n",
    "    )\n",
    "    \n",
    "    return model, transforms"
   ]
  },
  {
   "cell_type": "code",
   "execution_count": 27,
   "id": "195965a7-a2c3-4d8e-b0a6-3cb2694968ba",
   "metadata": {
    "execution": {
     "iopub.execute_input": "2023-09-09T23:35:57.345977Z",
     "iopub.status.busy": "2023-09-09T23:35:57.345427Z",
     "iopub.status.idle": "2023-09-09T23:35:57.349927Z",
     "shell.execute_reply": "2023-09-09T23:35:57.349363Z",
     "shell.execute_reply.started": "2023-09-09T23:35:57.345954Z"
    }
   },
   "outputs": [
    {
     "data": {
      "text/plain": [
       "38"
      ]
     },
     "execution_count": 27,
     "metadata": {},
     "output_type": "execute_result"
    }
   ],
   "source": [
    "NUM_CLASSES = len(class_names)\n",
    "NUM_CLASSES"
   ]
  },
  {
   "cell_type": "code",
   "execution_count": 28,
   "id": "4fdf3edc-d94a-4b06-8a7a-61a358acbd7d",
   "metadata": {
    "execution": {
     "iopub.execute_input": "2023-09-09T23:35:58.625751Z",
     "iopub.status.busy": "2023-09-09T23:35:58.625510Z",
     "iopub.status.idle": "2023-09-09T23:35:58.781361Z",
     "shell.execute_reply": "2023-09-09T23:35:58.780928Z",
     "shell.execute_reply.started": "2023-09-09T23:35:58.625733Z"
    }
   },
   "outputs": [],
   "source": [
    "effnetb2, effnetb2_transforms = create_effnetb2_model(num_classes=NUM_CLASSES,\n",
    "                                                      seed=RANDOM_SEED)"
   ]
  },
  {
   "cell_type": "code",
   "execution_count": 29,
   "id": "ac91ac4b-b8fd-401b-bb88-b96a663868a0",
   "metadata": {
    "execution": {
     "iopub.execute_input": "2023-09-09T23:36:17.736762Z",
     "iopub.status.busy": "2023-09-09T23:36:17.735756Z",
     "iopub.status.idle": "2023-09-09T23:36:17.836356Z",
     "shell.execute_reply": "2023-09-09T23:36:17.835951Z",
     "shell.execute_reply.started": "2023-09-09T23:36:17.736730Z"
    }
   },
   "outputs": [
    {
     "data": {
      "text/plain": [
       "============================================================================================================================================\n",
       "Layer (type (var_name))                                      Input Shape          Output Shape         Param #              Trainable\n",
       "============================================================================================================================================\n",
       "EfficientNet (EfficientNet)                                  [1, 3, 224, 224]     [1, 38]              --                   Partial\n",
       "├─Sequential (features)                                      [1, 3, 224, 224]     [1, 1408, 7, 7]      --                   False\n",
       "│    └─Conv2dNormActivation (0)                              [1, 3, 224, 224]     [1, 32, 112, 112]    --                   False\n",
       "│    │    └─Conv2d (0)                                       [1, 3, 224, 224]     [1, 32, 112, 112]    (864)                False\n",
       "│    │    └─BatchNorm2d (1)                                  [1, 32, 112, 112]    [1, 32, 112, 112]    (64)                 False\n",
       "│    │    └─SiLU (2)                                         [1, 32, 112, 112]    [1, 32, 112, 112]    --                   --\n",
       "│    └─Sequential (1)                                        [1, 32, 112, 112]    [1, 16, 112, 112]    --                   False\n",
       "│    │    └─MBConv (0)                                       [1, 32, 112, 112]    [1, 16, 112, 112]    (1,448)              False\n",
       "│    │    └─MBConv (1)                                       [1, 16, 112, 112]    [1, 16, 112, 112]    (612)                False\n",
       "│    └─Sequential (2)                                        [1, 16, 112, 112]    [1, 24, 56, 56]      --                   False\n",
       "│    │    └─MBConv (0)                                       [1, 16, 112, 112]    [1, 24, 56, 56]      (6,004)              False\n",
       "│    │    └─MBConv (1)                                       [1, 24, 56, 56]      [1, 24, 56, 56]      (10,710)             False\n",
       "│    │    └─MBConv (2)                                       [1, 24, 56, 56]      [1, 24, 56, 56]      (10,710)             False\n",
       "│    └─Sequential (3)                                        [1, 24, 56, 56]      [1, 48, 28, 28]      --                   False\n",
       "│    │    └─MBConv (0)                                       [1, 24, 56, 56]      [1, 48, 28, 28]      (16,518)             False\n",
       "│    │    └─MBConv (1)                                       [1, 48, 28, 28]      [1, 48, 28, 28]      (43,308)             False\n",
       "│    │    └─MBConv (2)                                       [1, 48, 28, 28]      [1, 48, 28, 28]      (43,308)             False\n",
       "│    └─Sequential (4)                                        [1, 48, 28, 28]      [1, 88, 14, 14]      --                   False\n",
       "│    │    └─MBConv (0)                                       [1, 48, 28, 28]      [1, 88, 14, 14]      (50,300)             False\n",
       "│    │    └─MBConv (1)                                       [1, 88, 14, 14]      [1, 88, 14, 14]      (123,750)            False\n",
       "│    │    └─MBConv (2)                                       [1, 88, 14, 14]      [1, 88, 14, 14]      (123,750)            False\n",
       "│    │    └─MBConv (3)                                       [1, 88, 14, 14]      [1, 88, 14, 14]      (123,750)            False\n",
       "│    └─Sequential (5)                                        [1, 88, 14, 14]      [1, 120, 14, 14]     --                   False\n",
       "│    │    └─MBConv (0)                                       [1, 88, 14, 14]      [1, 120, 14, 14]     (149,158)            False\n",
       "│    │    └─MBConv (1)                                       [1, 120, 14, 14]     [1, 120, 14, 14]     (237,870)            False\n",
       "│    │    └─MBConv (2)                                       [1, 120, 14, 14]     [1, 120, 14, 14]     (237,870)            False\n",
       "│    │    └─MBConv (3)                                       [1, 120, 14, 14]     [1, 120, 14, 14]     (237,870)            False\n",
       "│    └─Sequential (6)                                        [1, 120, 14, 14]     [1, 208, 7, 7]       --                   False\n",
       "│    │    └─MBConv (0)                                       [1, 120, 14, 14]     [1, 208, 7, 7]       (301,406)            False\n",
       "│    │    └─MBConv (1)                                       [1, 208, 7, 7]       [1, 208, 7, 7]       (686,868)            False\n",
       "│    │    └─MBConv (2)                                       [1, 208, 7, 7]       [1, 208, 7, 7]       (686,868)            False\n",
       "│    │    └─MBConv (3)                                       [1, 208, 7, 7]       [1, 208, 7, 7]       (686,868)            False\n",
       "│    │    └─MBConv (4)                                       [1, 208, 7, 7]       [1, 208, 7, 7]       (686,868)            False\n",
       "│    └─Sequential (7)                                        [1, 208, 7, 7]       [1, 352, 7, 7]       --                   False\n",
       "│    │    └─MBConv (0)                                       [1, 208, 7, 7]       [1, 352, 7, 7]       (846,900)            False\n",
       "│    │    └─MBConv (1)                                       [1, 352, 7, 7]       [1, 352, 7, 7]       (1,888,920)          False\n",
       "│    └─Conv2dNormActivation (8)                              [1, 352, 7, 7]       [1, 1408, 7, 7]      --                   False\n",
       "│    │    └─Conv2d (0)                                       [1, 352, 7, 7]       [1, 1408, 7, 7]      (495,616)            False\n",
       "│    │    └─BatchNorm2d (1)                                  [1, 1408, 7, 7]      [1, 1408, 7, 7]      (2,816)              False\n",
       "│    │    └─SiLU (2)                                         [1, 1408, 7, 7]      [1, 1408, 7, 7]      --                   --\n",
       "├─AdaptiveAvgPool2d (avgpool)                                [1, 1408, 7, 7]      [1, 1408, 1, 1]      --                   --\n",
       "├─Sequential (classifier)                                    [1, 1408]            [1, 38]              --                   True\n",
       "│    └─Dropout (0)                                           [1, 1408]            [1, 1408]            --                   --\n",
       "│    └─Linear (1)                                            [1, 1408]            [1, 38]              53,542               True\n",
       "============================================================================================================================================\n",
       "Total params: 7,754,536\n",
       "Trainable params: 53,542\n",
       "Non-trainable params: 7,700,994\n",
       "Total mult-adds (M): 657.69\n",
       "============================================================================================================================================\n",
       "Input size (MB): 0.60\n",
       "Forward/backward pass size (MB): 156.80\n",
       "Params size (MB): 31.02\n",
       "Estimated Total Size (MB): 188.42\n",
       "============================================================================================================================================"
      ]
     },
     "execution_count": 29,
     "metadata": {},
     "output_type": "execute_result"
    }
   ],
   "source": [
    "from torchinfo import summary\n",
    "\n",
    "# Print EffNetB2 model summary (uncomment for full output) \n",
    "summary(effnetb2, \n",
    "        input_size=(1, 3, 224, 224),\n",
    "        col_names=[\"input_size\", \"output_size\", \"num_params\", \"trainable\"],\n",
    "        col_width=20,\n",
    "        row_settings=[\"var_names\"])"
   ]
  },
  {
   "cell_type": "code",
   "execution_count": 30,
   "id": "e6c94a9e-3b9e-4127-82c8-b4c40c18c5e9",
   "metadata": {
    "execution": {
     "iopub.execute_input": "2023-09-09T23:36:58.666310Z",
     "iopub.status.busy": "2023-09-09T23:36:58.665371Z",
     "iopub.status.idle": "2023-09-09T23:36:59.416016Z",
     "shell.execute_reply": "2023-09-09T23:36:59.415554Z",
     "shell.execute_reply.started": "2023-09-09T23:36:58.666282Z"
    }
   },
   "outputs": [],
   "source": [
    "# Setup DataLoaders\n",
    "from going_modular.going_modular import data_setup\n",
    "train_dataloader_effnetb2, test_dataloader_effnetb2, class_names = data_setup.create_dataloaders(train_dir=train_dir,\n",
    "                                                                                                 test_dir=test_dir,\n",
    "                                                                                                 transform=effnetb2_transforms,\n",
    "                                                                                                 batch_size=32)"
   ]
  },
  {
   "cell_type": "markdown",
   "id": "9717aefe-82b5-4a13-8d39-5f0d4c174e5c",
   "metadata": {},
   "source": [
    "Train the model"
   ]
  },
  {
   "cell_type": "code",
   "execution_count": 31,
   "id": "7a40e563-4acf-4473-bfbb-f44a5a603399",
   "metadata": {
    "execution": {
     "iopub.execute_input": "2023-09-09T23:37:36.656380Z",
     "iopub.status.busy": "2023-09-09T23:37:36.655494Z",
     "iopub.status.idle": "2023-09-09T23:56:39.042778Z",
     "shell.execute_reply": "2023-09-09T23:56:39.040381Z",
     "shell.execute_reply.started": "2023-09-09T23:37:36.656351Z"
    }
   },
   "outputs": [
    {
     "data": {
      "application/vnd.jupyter.widget-view+json": {
       "model_id": "34cd2512151b48b189ae962ec22a297a",
       "version_major": 2,
       "version_minor": 0
      },
      "text/plain": [
       "  0%|          | 0/10 [00:00<?, ?it/s]"
      ]
     },
     "metadata": {},
     "output_type": "display_data"
    },
    {
     "name": "stdout",
     "output_type": "stream",
     "text": [
      "Epoch: 1 | train_loss: 0.5890 | train_acc: 0.8748 | test_loss: 0.2151 | test_acc: 0.9465\n",
      "Epoch: 2 | train_loss: 0.2261 | train_acc: 0.9383 | test_loss: 0.1510 | test_acc: 0.9595\n",
      "Epoch: 3 | train_loss: 0.1831 | train_acc: 0.9449 | test_loss: 0.1225 | test_acc: 0.9653\n",
      "Epoch: 4 | train_loss: 0.1628 | train_acc: 0.9506 | test_loss: 0.1137 | test_acc: 0.9658\n",
      "Epoch: 5 | train_loss: 0.1551 | train_acc: 0.9510 | test_loss: 0.1072 | test_acc: 0.9677\n",
      "Epoch: 6 | train_loss: 0.1453 | train_acc: 0.9527 | test_loss: 0.1005 | test_acc: 0.9690\n",
      "Epoch: 7 | train_loss: 0.1418 | train_acc: 0.9549 | test_loss: 0.1042 | test_acc: 0.9679\n",
      "Epoch: 8 | train_loss: 0.1380 | train_acc: 0.9548 | test_loss: 0.0995 | test_acc: 0.9679\n",
      "Epoch: 9 | train_loss: 0.1345 | train_acc: 0.9560 | test_loss: 0.0950 | test_acc: 0.9682\n",
      "Epoch: 10 | train_loss: 0.1325 | train_acc: 0.9560 | test_loss: 0.0934 | test_acc: 0.9707\n"
     ]
    }
   ],
   "source": [
    "from going_modular.going_modular import engine\n",
    "\n",
    "# Setup optimizer\n",
    "optimizer = torch.optim.Adam(params=effnetb2.parameters(),\n",
    "                             lr=1e-3)\n",
    "# Setup loss function\n",
    "loss_fn = torch.nn.CrossEntropyLoss()\n",
    "\n",
    "# Set seeds for reproducibility and train the model\n",
    "set_seeds()\n",
    "effnetb2_results = engine.train(model=effnetb2,\n",
    "                                train_dataloader=train_dataloader_effnetb2,\n",
    "                                test_dataloader=test_dataloader_effnetb2,\n",
    "                                epochs=10,\n",
    "                                optimizer=optimizer,\n",
    "                                loss_fn=loss_fn,\n",
    "                                device=device)"
   ]
  },
  {
   "cell_type": "markdown",
   "id": "4daf384e-d5c1-4c43-8f5c-e6ad3b650122",
   "metadata": {
    "execution": {
     "iopub.execute_input": "2023-09-09T23:56:57.963841Z",
     "iopub.status.busy": "2023-09-09T23:56:57.963561Z",
     "iopub.status.idle": "2023-09-09T23:56:57.967195Z",
     "shell.execute_reply": "2023-09-09T23:56:57.966573Z",
     "shell.execute_reply.started": "2023-09-09T23:56:57.963817Z"
    }
   },
   "source": [
    "## 3 Inspect loss curves"
   ]
  },
  {
   "cell_type": "code",
   "execution_count": 33,
   "id": "5df0788f-525f-4740-9fbf-d06387c37ddc",
   "metadata": {
    "execution": {
     "iopub.execute_input": "2023-09-09T23:57:06.060676Z",
     "iopub.status.busy": "2023-09-09T23:57:06.060388Z",
     "iopub.status.idle": "2023-09-09T23:57:06.384260Z",
     "shell.execute_reply": "2023-09-09T23:57:06.383606Z",
     "shell.execute_reply.started": "2023-09-09T23:57:06.060655Z"
    }
   },
   "outputs": [
    {
     "data": {
      "image/png": "[encoded data removed]",
      "text/plain": [
       "<Figure size 1500x700 with 2 Axes>"
      ]
     },
     "metadata": {},
     "output_type": "display_data"
    }
   ],
   "source": [
    "from helper_functions import plot_loss_curves\n",
    "\n",
    "plot_loss_curves(effnetb2_results)"
   ]
  },
  {
   "cell_type": "markdown",
   "id": "2bb81442-9044-4577-8f2e-9953495ffc39",
   "metadata": {},
   "source": [
    "## 4. Save the Model"
   ]
  },
  {
   "cell_type": "code",
   "execution_count": 34,
   "id": "b6f11a81-77da-4f1e-8de6-8816e285b25b",
   "metadata": {
    "execution": {
     "iopub.execute_input": "2023-09-09T23:58:55.901935Z",
     "iopub.status.busy": "2023-09-09T23:58:55.901201Z",
     "iopub.status.idle": "2023-09-09T23:58:55.979989Z",
     "shell.execute_reply": "2023-09-09T23:58:55.979336Z",
     "shell.execute_reply.started": "2023-09-09T23:58:55.901899Z"
    }
   },
   "outputs": [
    {
     "name": "stdout",
     "output_type": "stream",
     "text": [
      "[INFO] Saving model to: /storage/data/plant_village/models/effnetb2_feature_extractor.pth\n"
     ]
    }
   ],
   "source": [
    "from going_modular.going_modular import utils\n",
    "\n",
    "# Save the model\n",
    "utils.save_model(model=effnetb2,\n",
    "                 target_dir=image_path / \"models\",\n",
    "                 model_name=\"effnetb2_feature_extractor.pth\")"
   ]
  },
  {
   "cell_type": "code",
   "execution_count": 36,
   "id": "18fd77fe-748d-4586-8512-add63fe938ae",
   "metadata": {
    "execution": {
     "iopub.execute_input": "2023-09-10T00:01:23.330980Z",
     "iopub.status.busy": "2023-09-10T00:01:23.330435Z",
     "iopub.status.idle": "2023-09-10T00:01:24.042462Z",
     "shell.execute_reply": "2023-09-10T00:01:24.041396Z",
     "shell.execute_reply.started": "2023-09-10T00:01:23.330956Z"
    }
   },
   "outputs": [
    {
     "name": "stdout",
     "output_type": "stream",
     "text": [
      "-rw-r--r-- 1 root root 31M Sep  9 23:58 /storage/data/plant_village/models/effnetb2_feature_extractor.pth\n"
     ]
    }
   ],
   "source": [
    "!ls -lh /storage/data/plant_village/models/effnetb2_feature_extractor.pth"
   ]
  },
  {
   "cell_type": "markdown",
   "id": "459ccf35-0dc7-41b7-b693-781d7ba8c241",
   "metadata": {},
   "source": [
    "## 5. Model Deployment"
   ]
  },
  {
   "cell_type": "markdown",
   "id": "f1d1d24e-5156-44bc-851d-4ac390b62f03",
   "metadata": {},
   "source": [
    "Create the deployment directory"
   ]
  },
  {
   "cell_type": "code",
   "execution_count": 41,
   "id": "89903e72-8668-4050-90b2-ef27a94c0ec1",
   "metadata": {
    "execution": {
     "iopub.execute_input": "2023-09-10T00:05:20.631032Z",
     "iopub.status.busy": "2023-09-10T00:05:20.630297Z",
     "iopub.status.idle": "2023-09-10T00:05:21.368414Z",
     "shell.execute_reply": "2023-09-10T00:05:21.367544Z",
     "shell.execute_reply.started": "2023-09-10T00:05:20.631002Z"
    }
   },
   "outputs": [
    {
     "name": "stdout",
     "output_type": "stream",
     "text": [
      "leaf_disease\n"
     ]
    }
   ],
   "source": [
    "import shutil\n",
    "from pathlib import Path\n",
    "\n",
    "# Create FoodVision mini demo path\n",
    "demo_path = Path(\"demos/leaf_disease/\")\n",
    "\n",
    "# Remove files that might already exist there and create new directory\n",
    "if demo_path.exists():\n",
    "    shutil.rmtree(demo_path)\n",
    "    demo_path.mkdir(parents=True,\n",
    "                    exist_ok=True)\n",
    "else:\n",
    "    # If the file doesn't exist, create it anyway\n",
    "    demo_path.mkdir(parents=True,\n",
    "                    exist_ok=True)\n",
    "    \n",
    "# Check what's in the folder\n",
    "!ls demos"
   ]
  },
  {
   "cell_type": "markdown",
   "id": "dbba5e2e-358a-4c8a-a67b-80b8afb1560b",
   "metadata": {
    "execution": {
     "iopub.execute_input": "2023-09-10T00:05:16.091257Z",
     "iopub.status.busy": "2023-09-10T00:05:16.090621Z",
     "iopub.status.idle": "2023-09-10T00:05:16.822397Z",
     "shell.execute_reply": "2023-09-10T00:05:16.821503Z",
     "shell.execute_reply.started": "2023-09-10T00:05:16.091242Z"
    }
   },
   "source": [
    "Store example images"
   ]
  },
  {
   "cell_type": "code",
   "execution_count": 46,
   "id": "924b973c-44d7-451d-8e89-49b303eaac97",
   "metadata": {
    "execution": {
     "iopub.execute_input": "2023-09-10T00:11:03.240329Z",
     "iopub.status.busy": "2023-09-10T00:11:03.239794Z",
     "iopub.status.idle": "2023-09-10T00:11:03.245401Z",
     "shell.execute_reply": "2023-09-10T00:11:03.244548Z",
     "shell.execute_reply.started": "2023-09-10T00:11:03.240308Z"
    }
   },
   "outputs": [
    {
     "data": {
      "text/plain": [
       "[PosixPath('/storage/data/plant_village/organized/test/Strawberry___healthy/image (999).JPG'),\n",
       " PosixPath('/storage/data/plant_village/organized/test/Tomato___Spider_mites Two-spotted_spider_mite/image (581).JPG'),\n",
       " PosixPath('/storage/data/plant_village/organized/test/Pepper,_bell___healthy/image (419).JPG'),\n",
       " PosixPath('/storage/data/plant_village/organized/test/Peach___Bacterial_spot/image (472).JPG'),\n",
       " PosixPath('/storage/data/plant_village/organized/test/Apple___healthy/image (519).JPG'),\n",
       " PosixPath('/storage/data/plant_village/organized/test/Tomato___Tomato_Yellow_Leaf_Curl_Virus/image (675).JPG'),\n",
       " PosixPath('/storage/data/plant_village/organized/test/Tomato___Tomato_Yellow_Leaf_Curl_Virus/image (4735).JPG'),\n",
       " PosixPath('/storage/data/plant_village/organized/test/Tomato___Late_blight/image (1363).JPG'),\n",
       " PosixPath('/storage/data/plant_village/organized/test/Peach___Bacterial_spot/image (2200).JPG'),\n",
       " PosixPath('/storage/data/plant_village/organized/test/Tomato___Spider_mites Two-spotted_spider_mite/image (1574).JPG')]"
      ]
     },
     "execution_count": 46,
     "metadata": {},
     "output_type": "execute_result"
    }
   ],
   "source": [
    "import random\n",
    "\n",
    "random.seed(RANDOM_SEED)\n",
    "example_paths = random.sample(test_image_paths, k=10)\n",
    "example_paths"
   ]
  },
  {
   "cell_type": "code",
   "execution_count": 47,
   "id": "63c74fcd-e51a-465b-aabf-b32cb1197a65",
   "metadata": {
    "execution": {
     "iopub.execute_input": "2023-09-10T00:12:41.200496Z",
     "iopub.status.busy": "2023-09-10T00:12:41.199828Z",
     "iopub.status.idle": "2023-09-10T00:12:41.428682Z",
     "shell.execute_reply": "2023-09-10T00:12:41.427796Z",
     "shell.execute_reply.started": "2023-09-10T00:12:41.200468Z"
    }
   },
   "outputs": [
    {
     "name": "stdout",
     "output_type": "stream",
     "text": [
      "[INFO] Copying /storage/data/plant_village/organized/test/Strawberry___healthy/image (999).JPG to demos/leaf_disease/examples/image (999).JPG\n",
      "[INFO] Copying /storage/data/plant_village/organized/test/Tomato___Spider_mites Two-spotted_spider_mite/image (581).JPG to demos/leaf_disease/examples/image (581).JPG\n",
      "[INFO] Copying /storage/data/plant_village/organized/test/Pepper,_bell___healthy/image (419).JPG to demos/leaf_disease/examples/image (419).JPG\n",
      "[INFO] Copying /storage/data/plant_village/organized/test/Peach___Bacterial_spot/image (472).JPG to demos/leaf_disease/examples/image (472).JPG\n",
      "[INFO] Copying /storage/data/plant_village/organized/test/Apple___healthy/image (519).JPG to demos/leaf_disease/examples/image (519).JPG\n",
      "[INFO] Copying /storage/data/plant_village/organized/test/Tomato___Tomato_Yellow_Leaf_Curl_Virus/image (675).JPG to demos/leaf_disease/examples/image (675).JPG\n",
      "[INFO] Copying /storage/data/plant_village/organized/test/Tomato___Tomato_Yellow_Leaf_Curl_Virus/image (4735).JPG to demos/leaf_disease/examples/image (4735).JPG\n",
      "[INFO] Copying /storage/data/plant_village/organized/test/Tomato___Late_blight/image (1363).JPG to demos/leaf_disease/examples/image (1363).JPG\n",
      "[INFO] Copying /storage/data/plant_village/organized/test/Peach___Bacterial_spot/image (2200).JPG to demos/leaf_disease/examples/image (2200).JPG\n",
      "[INFO] Copying /storage/data/plant_village/organized/test/Tomato___Spider_mites Two-spotted_spider_mite/image (1574).JPG to demos/leaf_disease/examples/image (1574).JPG\n"
     ]
    }
   ],
   "source": [
    "import shutil\n",
    "import random\n",
    "from pathlib import Path\n",
    "\n",
    "random.seed(RANDOM_SEED)\n",
    "\n",
    "# 1. Create an examples directory\n",
    "examples_path = demo_path / \"examples\"\n",
    "examples_path.mkdir(parents=True, exist_ok=True)\n",
    "\n",
    "# 2. Collect three random test dataset image paths\n",
    "examples = random.sample(test_image_paths, k=10)\n",
    "\n",
    "# 3. Copy the three random images to the examples directory\n",
    "for example in examples:\n",
    "    destination = examples_path / example.name\n",
    "    print(f\"[INFO] Copying {example} to {destination}\")\n",
    "    shutil.copy2(src=example, dst=destination)"
   ]
  },
  {
   "cell_type": "markdown",
   "id": "6c9dc0f4-bb2f-4407-a796-2ab5ce3d9d53",
   "metadata": {},
   "source": [
    "Copy the model to the destination directory"
   ]
  },
  {
   "cell_type": "code",
   "execution_count": 49,
   "id": "275f0793-ce73-4fad-9b82-f3d592873001",
   "metadata": {
    "execution": {
     "iopub.execute_input": "2023-09-10T00:16:06.809746Z",
     "iopub.status.busy": "2023-09-10T00:16:06.808991Z",
     "iopub.status.idle": "2023-09-10T00:16:06.840307Z",
     "shell.execute_reply": "2023-09-10T00:16:06.839635Z",
     "shell.execute_reply.started": "2023-09-10T00:16:06.809724Z"
    }
   },
   "outputs": [
    {
     "name": "stdout",
     "output_type": "stream",
     "text": [
      "[INFO] Attempting to copy /storage/data/plant_village/models/effnetb2_feature_extractor.pth to demos/leaf_disease/effnetb2_feature_extractor.pth\n",
      "[INFO] Model copy complete.\n"
     ]
    }
   ],
   "source": [
    "import shutil\n",
    "\n",
    "# Create a source path for our target model\n",
    "model_path = \"/storage/data/plant_village/models/effnetb2_feature_extractor.pth\"\n",
    "\n",
    "# Create a destination path for our target model \n",
    "model_destination = demo_path / model_path.split(\"/\")[-1]\n",
    "\n",
    "\n",
    "print(f\"[INFO] Attempting to copy {model_path} to {model_destination}\")\n",
    "\n",
    "# Move the model\n",
    "shutil.copy(src=model_path, \n",
    "            dst=model_destination)\n",
    "\n",
    "print(f\"[INFO] Model copy complete.\")"
   ]
  },
  {
   "cell_type": "markdown",
   "id": "e21f480b-a7b5-498a-a20d-881e93b25ed7",
   "metadata": {},
   "source": [
    "Create a models.py for gradio"
   ]
  },
  {
   "cell_type": "code",
   "execution_count": 50,
   "id": "97f53307-63a0-4d19-8bca-95240cff1ed9",
   "metadata": {
    "execution": {
     "iopub.execute_input": "2023-09-10T00:17:28.379833Z",
     "iopub.status.busy": "2023-09-10T00:17:28.379504Z",
     "iopub.status.idle": "2023-09-10T00:17:28.386834Z",
     "shell.execute_reply": "2023-09-10T00:17:28.385861Z",
     "shell.execute_reply.started": "2023-09-10T00:17:28.379808Z"
    }
   },
   "outputs": [
    {
     "name": "stdout",
     "output_type": "stream",
     "text": [
      "Writing demos/leaf_disease/model.py\n"
     ]
    }
   ],
   "source": [
    "%%writefile demos/leaf_disease/model.py\n",
    "import torch\n",
    "import torchvision\n",
    "\n",
    "from torch import nn\n",
    "\n",
    "\n",
    "def create_effnetb2_model(num_classes:int=38, \n",
    "                          seed:int=42):\n",
    "    \"\"\"Creates an EfficientNetB2 feature extractor model and transforms.\n",
    "\n",
    "    Args:\n",
    "        num_classes (int, optional): number of classes in the classifier head. \n",
    "            Defaults to 3.\n",
    "        seed (int, optional): random seed value. Defaults to 42.\n",
    "\n",
    "    Returns:\n",
    "        model (torch.nn.Module): EffNetB2 feature extractor model. \n",
    "        transforms (torchvision.transforms): EffNetB2 image transforms.\n",
    "    \"\"\"\n",
    "    # Create EffNetB2 pretrained weights, transforms and model\n",
    "    weights = torchvision.models.EfficientNet_B2_Weights.DEFAULT\n",
    "    transforms = weights.transforms()\n",
    "    model = torchvision.models.efficientnet_b2(weights=weights)\n",
    "\n",
    "    # Freeze all layers in base model\n",
    "    for param in model.parameters():\n",
    "        param.requires_grad = False\n",
    "\n",
    "    # Change classifier head with random seed for reproducibility\n",
    "    torch.manual_seed(seed)\n",
    "    model.classifier = nn.Sequential(\n",
    "        nn.Dropout(p=0.3, inplace=True),\n",
    "        nn.Linear(in_features=1408, out_features=num_classes),\n",
    "    )\n",
    "    \n",
    "    return model, transforms"
   ]
  },
  {
   "cell_type": "markdown",
   "id": "83ed108c-1f16-4721-b7e2-2436714dc1fa",
   "metadata": {},
   "source": [
    "Create accompanying app.py"
   ]
  },
  {
   "cell_type": "code",
   "execution_count": 52,
   "id": "9bf49953-63a7-4fab-a34d-b53461138432",
   "metadata": {
    "execution": {
     "iopub.execute_input": "2023-09-10T00:23:21.730413Z",
     "iopub.status.busy": "2023-09-10T00:23:21.729845Z",
     "iopub.status.idle": "2023-09-10T00:23:21.734223Z",
     "shell.execute_reply": "2023-09-10T00:23:21.733692Z",
     "shell.execute_reply.started": "2023-09-10T00:23:21.730391Z"
    }
   },
   "outputs": [
    {
     "data": {
      "text/plain": [
       "['Apple___Apple_scab',\n",
       " 'Apple___Black_rot',\n",
       " 'Apple___Cedar_apple_rust',\n",
       " 'Apple___healthy',\n",
       " 'Blueberry___healthy',\n",
       " 'Cherry___Powdery_mildew',\n",
       " 'Cherry___healthy',\n",
       " 'Corn___Cercospora_leaf_spot Gray_leaf_spot',\n",
       " 'Corn___Common_rust',\n",
       " 'Corn___Northern_Leaf_Blight',\n",
       " 'Corn___healthy',\n",
       " 'Grape___Black_rot',\n",
       " 'Grape___Esca_(Black_Measles)',\n",
       " 'Grape___Leaf_blight_(Isariopsis_Leaf_Spot)',\n",
       " 'Grape___healthy',\n",
       " 'Orange___Haunglongbing_(Citrus_greening)',\n",
       " 'Peach___Bacterial_spot',\n",
       " 'Peach___healthy',\n",
       " 'Pepper,_bell___Bacterial_spot',\n",
       " 'Pepper,_bell___healthy',\n",
       " 'Potato___Early_blight',\n",
       " 'Potato___Late_blight',\n",
       " 'Potato___healthy',\n",
       " 'Raspberry___healthy',\n",
       " 'Soybean___healthy',\n",
       " 'Squash___Powdery_mildew',\n",
       " 'Strawberry___Leaf_scorch',\n",
       " 'Strawberry___healthy',\n",
       " 'Tomato___Bacterial_spot',\n",
       " 'Tomato___Early_blight',\n",
       " 'Tomato___Late_blight',\n",
       " 'Tomato___Leaf_Mold',\n",
       " 'Tomato___Septoria_leaf_spot',\n",
       " 'Tomato___Spider_mites Two-spotted_spider_mite',\n",
       " 'Tomato___Target_Spot',\n",
       " 'Tomato___Tomato_Yellow_Leaf_Curl_Virus',\n",
       " 'Tomato___Tomato_mosaic_virus',\n",
       " 'Tomato___healthy']"
      ]
     },
     "execution_count": 52,
     "metadata": {},
     "output_type": "execute_result"
    }
   ],
   "source": [
    "class_names"
   ]
  },
  {
   "cell_type": "code",
   "execution_count": 54,
   "id": "14960d0c-3bbf-47d3-92d3-a5c02219e24d",
   "metadata": {
    "execution": {
     "iopub.execute_input": "2023-09-10T00:24:34.612232Z",
     "iopub.status.busy": "2023-09-10T00:24:34.611756Z",
     "iopub.status.idle": "2023-09-10T00:24:34.617752Z",
     "shell.execute_reply": "2023-09-10T00:24:34.617161Z",
     "shell.execute_reply.started": "2023-09-10T00:24:34.612212Z"
    }
   },
   "outputs": [
    {
     "name": "stdout",
     "output_type": "stream",
     "text": [
      "Writing demos/leaf_disease/app.py\n"
     ]
    }
   ],
   "source": [
    "%%writefile demos/leaf_disease/app.py\n",
    "### 1. Imports and class names setup ### \n",
    "import gradio as gr\n",
    "import os\n",
    "import torch\n",
    "\n",
    "from model import create_effnetb2_model\n",
    "from timeit import default_timer as timer\n",
    "from typing import Tuple, Dict\n",
    "\n",
    "# Setup class names\n",
    "class_names = ['Apple___Apple_scab',\n",
    "               'Apple___Black_rot',\n",
    "               'Apple___Cedar_apple_rust',\n",
    "               'Apple___healthy',\n",
    "               'Blueberry___healthy',\n",
    "               'Cherry___Powdery_mildew',\n",
    "               'Cherry___healthy',\n",
    "               'Corn___Cercospora_leaf_spot Gray_leaf_spot',\n",
    "               'Corn___Common_rust',\n",
    "               'Corn___Northern_Leaf_Blight',\n",
    "               'Corn___healthy',\n",
    "               'Grape___Black_rot',\n",
    "               'Grape___Esca_(Black_Measles)',\n",
    "               'Grape___Leaf_blight_(Isariopsis_Leaf_Spot)',\n",
    "               'Grape___healthy',\n",
    "               'Orange___Haunglongbing_(Citrus_greening)',\n",
    "               'Peach___Bacterial_spot',\n",
    "               'Peach___healthy',\n",
    "               'Pepper,_bell___Bacterial_spot',\n",
    "               'Pepper,_bell___healthy',\n",
    "               'Potato___Early_blight',\n",
    "               'Potato___Late_blight',\n",
    "               'Potato___healthy',\n",
    "               'Raspberry___healthy',\n",
    "               'Soybean___healthy',\n",
    "               'Squash___Powdery_mildew',\n",
    "               'Strawberry___Leaf_scorch',\n",
    "               'Strawberry___healthy',\n",
    "               'Tomato___Bacterial_spot',\n",
    "               'Tomato___Early_blight',\n",
    "               'Tomato___Late_blight',\n",
    "               'Tomato___Leaf_Mold',\n",
    "               'Tomato___Septoria_leaf_spot',\n",
    "               'Tomato___Spider_mites Two-spotted_spider_mite',\n",
    "               'Tomato___Target_Spot',\n",
    "               'Tomato___Tomato_Yellow_Leaf_Curl_Virus',\n",
    "               'Tomato___Tomato_mosaic_virus',\n",
    "               'Tomato___healthy']\n",
    "\n",
    "\n",
    "### 2. Model and transforms preparation ###\n",
    "\n",
    "# Create EffNetB2 model\n",
    "effnetb2, effnetb2_transforms = create_effnetb2_model(\n",
    "    num_classes=38, # len(class_names) would also work\n",
    ")\n",
    "\n",
    "# Load saved weights\n",
    "effnetb2.load_state_dict(\n",
    "    torch.load(\n",
    "        f=\"effnetb2_feature_extractor.pth\",\n",
    "        map_location=torch.device(\"cpu\"),  # load to CPU\n",
    "    )\n",
    ")\n",
    "\n",
    "### 3. Predict function ###\n",
    "\n",
    "# Create predict function\n",
    "def predict(img) -> Tuple[Dict, float]:\n",
    "    \"\"\"Transforms and performs a prediction on img and returns prediction and time taken.\n",
    "    \"\"\"\n",
    "    # Start the timer\n",
    "    start_time = timer()\n",
    "    \n",
    "    # Transform the target image and add a batch dimension\n",
    "    img = effnetb2_transforms(img).unsqueeze(0)\n",
    "    \n",
    "    # Put model into evaluation mode and turn on inference mode\n",
    "    effnetb2.eval()\n",
    "    with torch.inference_mode():\n",
    "        # Pass the transformed image through the model and turn the prediction logits into prediction probabilities\n",
    "        pred_probs = torch.softmax(effnetb2(img), dim=1)\n",
    "    \n",
    "    # Create a prediction label and prediction probability dictionary for each prediction class (this is the required format for Gradio's output parameter)\n",
    "    pred_labels_and_probs = {class_names[i]: float(pred_probs[0][i]) for i in range(len(class_names))}\n",
    "    \n",
    "    # Calculate the prediction time\n",
    "    pred_time = round(timer() - start_time, 5)\n",
    "    \n",
    "    # Return the prediction dictionary and prediction time \n",
    "    return pred_labels_and_probs, pred_time\n",
    "\n",
    "### 4. Gradio app ###\n",
    "\n",
    "# Create title, description and article strings\n",
    "title = \"LeafDisease v0.1\"\n",
    "description = \"An EfficientNetB2 feature extractor trained on the PlantVillage dataset\"\n",
    "article = \"Created by c3n7\"\n",
    "\n",
    "# Create examples list from \"examples/\" directory\n",
    "example_list = [[\"examples/\" + example] for example in os.listdir(\"examples\")]\n",
    "\n",
    "# Create the Gradio demo\n",
    "demo = gr.Interface(fn=predict, # mapping function from input to output\n",
    "                    inputs=gr.Image(type=\"pil\"), # what are the inputs?\n",
    "                    outputs=[gr.Label(num_top_classes=3, label=\"Predictions\"), # what are the outputs?\n",
    "                             gr.Number(label=\"Prediction time (s)\")], # our fn has two outputs, therefore we have two outputs\n",
    "                    # Create examples list from \"examples/\" directory\n",
    "                    examples=example_list, \n",
    "                    title=title,\n",
    "                    description=description,\n",
    "                    article=article)\n",
    "\n",
    "# Launch the demo!\n",
    "demo.launch()"
   ]
  },
  {
   "cell_type": "code",
   "execution_count": 55,
   "id": "fdfaa932-263b-4fb5-a0a3-07b446e23d04",
   "metadata": {
    "execution": {
     "iopub.execute_input": "2023-09-10T00:25:40.689220Z",
     "iopub.status.busy": "2023-09-10T00:25:40.688380Z",
     "iopub.status.idle": "2023-09-10T00:25:40.693653Z",
     "shell.execute_reply": "2023-09-10T00:25:40.692956Z",
     "shell.execute_reply.started": "2023-09-10T00:25:40.689167Z"
    }
   },
   "outputs": [
    {
     "name": "stdout",
     "output_type": "stream",
     "text": [
      "Writing demos/leaf_disease/requirements.txt\n"
     ]
    }
   ],
   "source": [
    "%%writefile demos/leaf_disease/requirements.txt\n",
    "torch==2.0.1\n",
    "torchvision==1.15.2\n",
    "gradio==3.1.4"
   ]
  },
  {
   "cell_type": "code",
   "execution_count": 56,
   "id": "ed5877f6-a908-4501-834e-896fb382025c",
   "metadata": {
    "execution": {
     "iopub.execute_input": "2023-09-10T00:26:01.361075Z",
     "iopub.status.busy": "2023-09-10T00:26:01.360366Z",
     "iopub.status.idle": "2023-09-10T00:26:02.035728Z",
     "shell.execute_reply": "2023-09-10T00:26:02.034952Z",
     "shell.execute_reply.started": "2023-09-10T00:26:01.361052Z"
    }
   },
   "outputs": [
    {
     "name": "stdout",
     "output_type": "stream",
     "text": [
      "app.py\teffnetb2_feature_extractor.pth\texamples  model.py  requirements.txt\n"
     ]
    }
   ],
   "source": [
    "!ls demos/leaf_disease"
   ]
  },
  {
   "cell_type": "code",
   "execution_count": 58,
   "id": "a608dd8f-0542-4fc3-9a2e-7b5e9988c122",
   "metadata": {
    "execution": {
     "iopub.execute_input": "2023-09-10T00:27:42.730864Z",
     "iopub.status.busy": "2023-09-10T00:27:42.730144Z",
     "iopub.status.idle": "2023-09-10T00:27:44.833211Z",
     "shell.execute_reply": "2023-09-10T00:27:44.832487Z",
     "shell.execute_reply.started": "2023-09-10T00:27:42.730841Z"
    }
   },
   "outputs": [
    {
     "name": "stdout",
     "output_type": "stream",
     "text": [
      "  adding: app.py (deflated 65%)\n",
      "  adding: effnetb2_feature_extractor.pth (deflated 8%)\n",
      "  adding: examples/ (stored 0%)\n",
      "  adding: examples/image (1574).JPG (deflated 1%)\n",
      "  adding: examples/image (519).JPG (deflated 2%)\n",
      "  adding: examples/image (4735).JPG (deflated 2%)\n",
      "  adding: examples/image (2200).JPG (deflated 1%)\n",
      "  adding: examples/image (581).JPG (deflated 2%)\n",
      "  adding: examples/image (419).JPG (deflated 2%)\n",
      "  adding: examples/image (1363).JPG (deflated 2%)\n",
      "  adding: examples/image (472).JPG (deflated 2%)\n",
      "  adding: examples/image (675).JPG (deflated 1%)\n",
      "  adding: examples/image (999).JPG (deflated 1%)\n",
      "  adding: model.py (deflated 56%)\n",
      "  adding: requirements.txt (deflated 2%)\n"
     ]
    }
   ],
   "source": [
    "!cd demos/leaf_disease && zip -r ../leaf_disease.zip * -x \"*.pyc\" \"*.ipynb\" \"*__pycache__*\" \"*ipynb_checkpoints*\""
   ]
  },
  {
   "cell_type": "code",
   "execution_count": null,
   "id": "00b32f41-7ee0-4f9f-b670-3383a697cea6",
   "metadata": {},
   "outputs": [],
   "source": []
  }
 ],
 "metadata": {
  "kernelspec": {
   "display_name": "Python 3 (ipykernel)",
   "language": "python",
   "name": "python3"
  },
  "language_info": {
   "codemirror_mode": {
    "name": "ipython",
    "version": 3
   },
   "file_extension": ".py",
   "mimetype": "text/x-python",
   "name": "python",
   "nbconvert_exporter": "python",
   "pygments_lexer": "ipython3",
   "version": "3.9.16"
  }
 },
 "nbformat": 4,
 "nbformat_minor": 5
}
